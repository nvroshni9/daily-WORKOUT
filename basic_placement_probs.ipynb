{
 "cells": [
  {
   "cell_type": "code",
   "execution_count": 3,
   "metadata": {},
   "outputs": [
    {
     "name": "stdout",
     "output_type": "stream",
     "text": [
      "1234\n",
      "not armstrong\n"
     ]
    }
   ],
   "source": [
    "x=input()\n",
    "sum=0\n",
    "for i in x:\n",
    "    sum+=int(i)**len(x)\n",
    "if sum==int(x):\n",
    "    print(\"armstrong\")\n",
    "else:\n",
    "    print(\"not armstrong\")\n",
    "    "
   ]
  },
  {
   "cell_type": "code",
   "execution_count": 5,
   "metadata": {},
   "outputs": [
    {
     "name": "stdout",
     "output_type": "stream",
     "text": [
      "4\n",
      "24\n"
     ]
    }
   ],
   "source": [
    "#fibonacci\n",
    "def fibonacci(x):\n",
    "    if x==0:\n",
    "        return 1\n",
    "    else:\n",
    "        return x*fibonacci(x-1)\n",
    "i=int(input())\n",
    "print(fibonacci(i))\n",
    "    "
   ]
  },
  {
   "cell_type": "code",
   "execution_count": 9,
   "metadata": {},
   "outputs": [
    {
     "name": "stdout",
     "output_type": "stream",
     "text": [
      "12345\n",
      "not Pallindrome\n"
     ]
    }
   ],
   "source": [
    "#pallindrome\n",
    "def pallindrome(x):\n",
    "    n=len(x)\n",
    "    for i in range(0,n//2+1):\n",
    "        if (x[i]!=x[n-1-i]):\n",
    "            print(\"not Pallindrome\")\n",
    "            return \n",
    "    print(\"pallindrome\")\n",
    "    return\n",
    "pallindrome(input())\n",
    "        \n",
    "        "
   ]
  },
  {
   "cell_type": "code",
   "execution_count": 15,
   "metadata": {},
   "outputs": [
    {
     "name": "stdout",
     "output_type": "stream",
     "text": [
      "12321 1234321\n",
      "1\n"
     ]
    }
   ],
   "source": [
    "#HCF\n",
    "def hcf(x):\n",
    "    \n",
    "    hcf=1\n",
    "    for i in range(2,min(x)+1):\n",
    "        count=0\n",
    "        for j in x:\n",
    "            if j%i!=0:\n",
    "                break\n",
    "            else:\n",
    "                count+=1\n",
    "        if count==len(x):\n",
    "            hcf=i\n",
    "    \n",
    "    return hcf\n",
    "x=[int(i) for i in input().split()]\n",
    "print(hcf(x))\n",
    "        \n",
    "    "
   ]
  },
  {
   "cell_type": "code",
   "execution_count": 20,
   "metadata": {},
   "outputs": [
    {
     "data": {
      "text/plain": [
       "'\\ndef LCM(x):\\n    lcm=1\\n    for i in x:\\n        lcm*=i \\n    x=sorted(x)\\n    for i in range(2,max(x)+1):\\n        count=0\\n        for j in range(len(x)):\\n            if x[j]%i==0:\\n                j/=i\\n                count+=1\\n                \\n        if count>1:\\n            lcm/=i\\n        x.sort()\\n    return lcm\\na=[int(i) for i in input().split()]\\nprint(LCM(a))\\n   '"
      ]
     },
     "execution_count": 20,
     "metadata": {},
     "output_type": "execute_result"
    }
   ],
   "source": [
    "#LCM\n",
    "'''\n",
    "def LCM(x):\n",
    "    lcm=1\n",
    "    for i in x:\n",
    "        lcm*=i \n",
    "    x=sorted(x)\n",
    "    for i in range(2,max(x)+1):\n",
    "        count=0\n",
    "        for j in range(len(x)):\n",
    "            if x[j]%i==0:\n",
    "                j/=i\n",
    "                count+=1\n",
    "                \n",
    "        if count>1:\n",
    "            lcm/=i\n",
    "        x.sort()\n",
    "    return lcm\n",
    "a=[int(i) for i in input().split()]\n",
    "print(LCM(a))\n",
    "'''\n",
    "\n",
    "        "
   ]
  },
  {
   "cell_type": "code",
   "execution_count": 25,
   "metadata": {},
   "outputs": [
    {
     "name": "stdout",
     "output_type": "stream",
     "text": [
      "120\n"
     ]
    }
   ],
   "source": [
    "#LCM of two numbers\n",
    "#x*y=lcm*hcf\n",
    "#=>  lcm = x*y/hcf\n",
    "def hcf(a,b):\n",
    "        if a==0:\n",
    "            return b\n",
    "        return hcf(b%a,a)\n",
    "\n",
    "def LCM(a,b):\n",
    "    lcm=a*b/(hcf(a,b))\n",
    "    return(int(lcm))\n",
    "\n",
    "def LCMv2(A):\n",
    "    ANS=A[0]\n",
    "    for i in range(len(A)):\n",
    "        LCM()\n",
    "        \n",
    "\n",
    "\n",
    "    \n",
    "\n"
   ]
  },
  {
   "cell_type": "code",
   "execution_count": null,
   "metadata": {},
   "outputs": [],
   "source": []
  }
 ],
 "metadata": {
  "kernelspec": {
   "display_name": "Python 3.7.4 64-bit ('base': conda)",
   "language": "python",
   "name": "python37464bitbasecondaab7d046bcad54c8a9a62680c277c6be6"
  },
  "language_info": {
   "codemirror_mode": {
    "name": "ipython",
    "version": 3
   },
   "file_extension": ".py",
   "mimetype": "text/x-python",
   "name": "python",
   "nbconvert_exporter": "python",
   "pygments_lexer": "ipython3",
   "version": "3.7.4"
  }
 },
 "nbformat": 4,
 "nbformat_minor": 2
}
